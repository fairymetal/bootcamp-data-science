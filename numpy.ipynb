{
  "nbformat": 4,
  "nbformat_minor": 0,
  "metadata": {
    "colab": {
      "name": "Untitled0.ipynb",
      "provenance": [],
      "authorship_tag": "ABX9TyMlp4lass9Yia8HBkSdCsg9",
      "include_colab_link": true
    },
    "kernelspec": {
      "name": "python3",
      "display_name": "Python 3"
    },
    "language_info": {
      "name": "python"
    }
  },
  "cells": [
    {
      "cell_type": "markdown",
      "metadata": {
        "id": "view-in-github",
        "colab_type": "text"
      },
      "source": [
        "<a href=\"https://colab.research.google.com/github/fairymetal/bootcamp-data-science/blob/main/numpy.ipynb\" target=\"_parent\"><img src=\"https://colab.research.google.com/assets/colab-badge.svg\" alt=\"Open In Colab\"/></a>"
      ]
    },
    {
      "cell_type": "code",
      "metadata": {
        "colab": {
          "base_uri": "https://localhost:8080/"
        },
        "id": "CrUqFVR9Apgb",
        "outputId": "baa278ef-abf3-4326-f272-a93b4d9e46d3"
      },
      "source": [
        "print('Hello')"
      ],
      "execution_count": null,
      "outputs": [
        {
          "output_type": "stream",
          "text": [
            "Hello\n"
          ],
          "name": "stdout"
        }
      ]
    },
    {
      "cell_type": "code",
      "metadata": {
        "colab": {
          "base_uri": "https://localhost:8080/",
          "height": 35
        },
        "id": "W6ppbdUYCQYw",
        "outputId": "49160dd1-93c7-4f16-f18b-48eddd0a2e36"
      },
      "source": [
        "import numpy as np\n",
        "np.random.seed(0)\n",
        "np.random.rand(10)\n",
        "np.random.choice(['p', 'b', 'a', '7', 'end', 'sl'])"
      ],
      "execution_count": 2,
      "outputs": [
        {
          "output_type": "execute_result",
          "data": {
            "application/vnd.google.colaboratory.intrinsic+json": {
              "type": "string"
            },
            "text/plain": [
              "'p'"
            ]
          },
          "metadata": {
            "tags": []
          },
          "execution_count": 2
        }
      ]
    },
    {
      "cell_type": "code",
      "metadata": {
        "id": "18r7f9FvFDnX",
        "colab": {
          "base_uri": "https://localhost:8080/"
        },
        "outputId": "8fa39f2e-2d16-4baf-da72-424ef4598bf6"
      },
      "source": [
        "np.all([2,5, 3, 8, 0])\n"
      ],
      "execution_count": null,
      "outputs": [
        {
          "output_type": "execute_result",
          "data": {
            "text/plain": [
              "False"
            ]
          },
          "metadata": {
            "tags": []
          },
          "execution_count": 20
        }
      ]
    },
    {
      "cell_type": "code",
      "metadata": {
        "colab": {
          "base_uri": "https://localhost:8080/"
        },
        "id": "NaVn65geX4LT",
        "outputId": "3b5c8b7a-70fc-43a1-e5bc-8aa4f374bf49"
      },
      "source": [
        "np.any([2,0, 0, 0, 0])"
      ],
      "execution_count": null,
      "outputs": [
        {
          "output_type": "execute_result",
          "data": {
            "text/plain": [
              "True"
            ]
          },
          "metadata": {
            "tags": []
          },
          "execution_count": 22
        }
      ]
    },
    {
      "cell_type": "code",
      "metadata": {
        "colab": {
          "base_uri": "https://localhost:8080/"
        },
        "id": "lRP3l-CFX8CW",
        "outputId": "587414de-1b59-4abe-c276-fcb586bb5d07"
      },
      "source": [
        "A = np.arange(start=-10, stop =10, step = 0.5)\n",
        "A = A.reshape(10,-1)\n",
        "A\n"
      ],
      "execution_count": null,
      "outputs": [
        {
          "output_type": "execute_result",
          "data": {
            "text/plain": [
              "array([[-10. ,  -9.5,  -9. ,  -8.5],\n",
              "       [ -8. ,  -7.5,  -7. ,  -6.5],\n",
              "       [ -6. ,  -5.5,  -5. ,  -4.5],\n",
              "       [ -4. ,  -3.5,  -3. ,  -2.5],\n",
              "       [ -2. ,  -1.5,  -1. ,  -0.5],\n",
              "       [  0. ,   0.5,   1. ,   1.5],\n",
              "       [  2. ,   2.5,   3. ,   3.5],\n",
              "       [  4. ,   4.5,   5. ,   5.5],\n",
              "       [  6. ,   6.5,   7. ,   7.5],\n",
              "       [  8. ,   8.5,   9. ,   9.5]])"
            ]
          },
          "metadata": {
            "tags": []
          },
          "execution_count": 29
        }
      ]
    },
    {
      "cell_type": "code",
      "metadata": {
        "colab": {
          "base_uri": "https://localhost:8080/"
        },
        "id": "d_W1R4S-Z09M",
        "outputId": "52606e77-9b1c-40fa-8870-c5379edd6858"
      },
      "source": [
        "A.T"
      ],
      "execution_count": null,
      "outputs": [
        {
          "output_type": "execute_result",
          "data": {
            "text/plain": [
              "array([[-10. ,  -8. ,  -6. ,  -4. ,  -2. ,   0. ,   2. ,   4. ,   6. ,\n",
              "          8. ],\n",
              "       [ -9.5,  -7.5,  -5.5,  -3.5,  -1.5,   0.5,   2.5,   4.5,   6.5,\n",
              "          8.5],\n",
              "       [ -9. ,  -7. ,  -5. ,  -3. ,  -1. ,   1. ,   3. ,   5. ,   7. ,\n",
              "          9. ],\n",
              "       [ -8.5,  -6.5,  -4.5,  -2.5,  -0.5,   1.5,   3.5,   5.5,   7.5,\n",
              "          9.5]])"
            ]
          },
          "metadata": {
            "tags": []
          },
          "execution_count": 30
        }
      ]
    },
    {
      "cell_type": "code",
      "metadata": {
        "colab": {
          "base_uri": "https://localhost:8080/"
        },
        "id": "0cMA-F4EaIeS",
        "outputId": "a77b65bf-5500-4e4d-e1e1-1c37b15e656e"
      },
      "source": [
        "A > 0"
      ],
      "execution_count": null,
      "outputs": [
        {
          "output_type": "execute_result",
          "data": {
            "text/plain": [
              "array([[False, False, False, False],\n",
              "       [False, False, False, False],\n",
              "       [False, False, False, False],\n",
              "       [False, False, False, False],\n",
              "       [False, False, False, False],\n",
              "       [False,  True,  True,  True],\n",
              "       [ True,  True,  True,  True],\n",
              "       [ True,  True,  True,  True],\n",
              "       [ True,  True,  True,  True],\n",
              "       [ True,  True,  True,  True]])"
            ]
          },
          "metadata": {
            "tags": []
          },
          "execution_count": 31
        }
      ]
    },
    {
      "cell_type": "code",
      "metadata": {
        "colab": {
          "base_uri": "https://localhost:8080/"
        },
        "id": "OZpGyfnDaRhj",
        "outputId": "ebe6d5f1-ba6e-4628-c6bc-062880e5cb9e"
      },
      "source": [
        "A[A>0]"
      ],
      "execution_count": null,
      "outputs": [
        {
          "output_type": "execute_result",
          "data": {
            "text/plain": [
              "array([0.5, 1. , 1.5, 2. , 2.5, 3. , 3.5, 4. , 4.5, 5. , 5.5, 6. , 6.5,\n",
              "       7. , 7.5, 8. , 8.5, 9. , 9.5])"
            ]
          },
          "metadata": {
            "tags": []
          },
          "execution_count": 32
        }
      ]
    },
    {
      "cell_type": "code",
      "metadata": {
        "colab": {
          "base_uri": "https://localhost:8080/"
        },
        "id": "PyrrE-sAaUzh",
        "outputId": "978a940c-7439-49da-a1fa-b8c783f0141a"
      },
      "source": [
        "np.bitwise_and(A>-5, A<5)"
      ],
      "execution_count": null,
      "outputs": [
        {
          "output_type": "execute_result",
          "data": {
            "text/plain": [
              "array([[False, False, False, False],\n",
              "       [False, False, False, False],\n",
              "       [False, False, False,  True],\n",
              "       [ True,  True,  True,  True],\n",
              "       [ True,  True,  True,  True],\n",
              "       [ True,  True,  True,  True],\n",
              "       [ True,  True,  True,  True],\n",
              "       [ True,  True, False, False],\n",
              "       [False, False, False, False],\n",
              "       [False, False, False, False]])"
            ]
          },
          "metadata": {
            "tags": []
          },
          "execution_count": 33
        }
      ]
    },
    {
      "cell_type": "code",
      "metadata": {
        "colab": {
          "base_uri": "https://localhost:8080/"
        },
        "id": "dVEZzG6Magkd",
        "outputId": "592dbe8a-0349-402e-8c13-09d363188165"
      },
      "source": [
        "A[np.bitwise_and(A>-5, A<5)]"
      ],
      "execution_count": null,
      "outputs": [
        {
          "output_type": "execute_result",
          "data": {
            "text/plain": [
              "array([-4.5, -4. , -3.5, -3. , -2.5, -2. , -1.5, -1. , -0.5,  0. ,  0.5,\n",
              "        1. ,  1.5,  2. ,  2.5,  3. ,  3.5,  4. ,  4.5])"
            ]
          },
          "metadata": {
            "tags": []
          },
          "execution_count": 34
        }
      ]
    },
    {
      "cell_type": "code",
      "metadata": {
        "colab": {
          "base_uri": "https://localhost:8080/"
        },
        "id": "PuKXnB-_al1O",
        "outputId": "a5ea808b-5449-4422-ce73-f7dd67722490"
      },
      "source": [
        "A[np.bitwise_or(A<-5, A>5)]"
      ],
      "execution_count": null,
      "outputs": [
        {
          "output_type": "execute_result",
          "data": {
            "text/plain": [
              "array([-10. ,  -9.5,  -9. ,  -8.5,  -8. ,  -7.5,  -7. ,  -6.5,  -6. ,\n",
              "        -5.5,   5.5,   6. ,   6.5,   7. ,   7.5,   8. ,   8.5,   9. ,\n",
              "         9.5])"
            ]
          },
          "metadata": {
            "tags": []
          },
          "execution_count": 36
        }
      ]
    },
    {
      "cell_type": "code",
      "metadata": {
        "id": "9WL11Xyoatzi",
        "colab": {
          "base_uri": "https://localhost:8080/"
        },
        "outputId": "447c2c04-95d7-4717-ed23-bf420a3ccf77"
      },
      "source": [
        "# rozwiązywanie układów równań metodą macierzową\n",
        "\n",
        "# 2x + 4y = 10, x-y = -1\n",
        "\n",
        "\n",
        "A = np.array([[2, 4],[1,-1]])\n",
        "print(A)\n",
        "B = np.array([[10],[-1]])\n",
        "print(B)\n",
        "\n",
        "# MACIERZ ODWÓCONA:    A_inv*A = A*A_inv = macierz jednostkowa\n",
        "A_inv = np.linalg.inv(A)\n",
        "X = np.dot(A_inv, B)\n",
        "\n",
        "print(A_inv)\n",
        "print(X) # - wynik"
      ],
      "execution_count": 4,
      "outputs": [
        {
          "output_type": "stream",
          "text": [
            "[[ 2  4]\n",
            " [ 1 -1]]\n",
            "[[10]\n",
            " [-1]]\n",
            "[[ 0.16666667  0.66666667]\n",
            " [ 0.16666667 -0.33333333]]\n",
            "[[1.]\n",
            " [2.]]\n"
          ],
          "name": "stdout"
        }
      ]
    },
    {
      "cell_type": "code",
      "metadata": {
        "id": "KBQNODGihK7n"
      },
      "source": [
        ""
      ],
      "execution_count": null,
      "outputs": []
    }
  ]
}